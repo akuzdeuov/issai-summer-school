{
 "cells": [
  {
   "cell_type": "code",
   "execution_count": 1,
   "metadata": {},
   "outputs": [],
   "source": [
    "import pandas as pd\n",
    "import numpy as np \n",
    "import os "
   ]
  },
  {
   "cell_type": "code",
   "execution_count": 2,
   "metadata": {},
   "outputs": [],
   "source": [
    "path_csv_targets = \"wifi_dataset/test_targets\"\n",
    "\n",
    "path_csv_submissions = \"submissions/\""
   ]
  },
  {
   "cell_type": "code",
   "execution_count": 3,
   "metadata": {},
   "outputs": [],
   "source": [
    "# function to calculate euclidean distance\n",
    "# between predicted and target positions\n",
    "def euclidean_distance(targets, preds):\n",
    "    errors_all = []\n",
    "    for pred, target in zip(preds, targets):\n",
    "        # calculate the euclidean distance between\n",
    "        # two vectors\n",
    "        error_cur = np.linalg.norm(pred - target)\n",
    "        # add the error to the list\n",
    "        errors_all.append(error_cur)\n",
    "    \n",
    "    # return the mean error\n",
    "    return np.mean(errors_all)"
   ]
  },
  {
   "cell_type": "code",
   "execution_count": 4,
   "metadata": {},
   "outputs": [],
   "source": [
    "def true_targets(csv_paths):\n",
    "    # total number of csv files in\n",
    "    # the folder\n",
    "    num_csvs = len(os.listdir(csv_paths))\n",
    "    \n",
    "    # loop over the csv files\n",
    "    for i in range(num_csvs):\n",
    "        # read the csv file\n",
    "        csv_data = pd.read_csv(os.path.join(csv_paths, \"{}.csv\".format(i+1)), header=None).to_numpy()\n",
    "        \n",
    "        if i == 0:\n",
    "            y = csv_data\n",
    "        else:\n",
    "            y = np.concatenate((y, csv_data), axis=0)\n",
    "            \n",
    "    return y"
   ]
  },
  {
   "cell_type": "code",
   "execution_count": 5,
   "metadata": {},
   "outputs": [
    {
     "name": "stdout",
     "output_type": "stream",
     "text": [
      "(2601, 3)\n"
     ]
    }
   ],
   "source": [
    "targets = true_targets(path_csv_targets)\n",
    "\n",
    "print(targets.shape)"
   ]
  },
  {
   "cell_type": "code",
   "execution_count": 6,
   "metadata": {},
   "outputs": [
    {
     "name": "stdout",
     "output_type": "stream",
     "text": [
      "John Snow: 1.8906\n",
      "Aski Haski: 1.8906\n"
     ]
    }
   ],
   "source": [
    "from imutils import paths \n",
    "\n",
    "sub_csvs = list(paths.list_files(path_csv_submissions, validExts=\"csv\")) \n",
    "\n",
    "for sub_csv in sub_csvs:\n",
    "    filename = sub_csv.split(\"/\")[-1]\n",
    "    filename = filename.split(\".\")[0]\n",
    "    name, surname = filename.split(\"_\")\n",
    "    preds = pd.read_csv(os.path.join(sub_csv), header=None).to_numpy()\n",
    "    score = euclidean_distance(preds, targets)\n",
    "    print(\"{} {}: {:.4f}\".format(name, surname, score))\n",
    "    "
   ]
  },
  {
   "cell_type": "code",
   "execution_count": null,
   "metadata": {},
   "outputs": [],
   "source": []
  }
 ],
 "metadata": {
  "kernelspec": {
   "display_name": "Python 3",
   "language": "python",
   "name": "python3"
  },
  "language_info": {
   "codemirror_mode": {
    "name": "ipython",
    "version": 3
   },
   "file_extension": ".py",
   "mimetype": "text/x-python",
   "name": "python",
   "nbconvert_exporter": "python",
   "pygments_lexer": "ipython3",
   "version": "3.5.2"
  }
 },
 "nbformat": 4,
 "nbformat_minor": 4
}
