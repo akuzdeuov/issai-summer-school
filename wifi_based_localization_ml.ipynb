{
 "cells": [
  {
   "cell_type": "code",
   "execution_count": 1,
   "metadata": {},
   "outputs": [],
   "source": [
    "# Python >= 3.5 is required\n",
    "import sys\n",
    "assert sys.version_info >= (3, 5)\n",
    "\n",
    "# Scikit-Learn >= 0.20 is required\n",
    "import sklearn \n",
    "assert sklearn.__version__ >= \"0.20\"\n",
    "\n",
    "# common imports\n",
    "import pandas as pd\n",
    "import numpy as np \n",
    "import os \n",
    "\n",
    "# to plot pretty figures\n",
    "%matplotlib inline \n",
    "import matplotlib as mpl \n",
    "import matplotlib.pyplot as plt \n",
    "mpl.rc('axes', labelsize=14)\n",
    "mpl.rc('xtick', labelsize=12)\n",
    "mpl.rc('ytick', labelsize=12)\n",
    "\n",
    "# where to save the figures\n",
    "PROJECT_ROOT_DIR = \".\"\n",
    "IMAGES_PATH = os.path.join(PROJECT_ROOT_DIR, \"images\")\n",
    "os.makedirs(IMAGES_PATH, exist_ok=True)\n",
    "\n",
    "def save_fig(fig_id, tight_layout=True, fig_extension=\"png\", resolution=300):\n",
    "    path = os.path.join(IMAGES_PATH, fig_id + \".\" + fig_extension)\n",
    "    print(\"Saving figure\", fig_id)\n",
    "    if tight_layout:\n",
    "        plt.tight_layout()\n",
    "    plt.savefig(path, format=fig_extension, dpi=resolution)"
   ]
  },
  {
   "cell_type": "code",
   "execution_count": 2,
   "metadata": {},
   "outputs": [
    {
     "name": "stdout",
     "output_type": "stream",
     "text": [
      "# train : 61, val: 12, and test files: 18\n"
     ]
    }
   ],
   "source": [
    "from imutils import paths\n",
    "\n",
    "# define lists of csv files\n",
    "train_csvs = []\n",
    "val_csvs = []\n",
    "test_csvs = []\n",
    "\n",
    "# loop over floors' ids\n",
    "for i in [4, 5, 6]:\n",
    "    # construct paths to train, validation, and test data\n",
    "    train_paths = os.path.join(\"dataset\", \"{}\".format(i), \"train\")\n",
    "    val_paths = os.path.join(\"dataset\", \"{}\".format(i), \"val\")\n",
    "    test_paths = os.path.join(\"dataset\", \"{}\".format(i), \"test\")\n",
    "    \n",
    "    # add paths to the csv files to the lists\n",
    "    train_csvs += list(paths.list_files(train_paths, validExts=\"csv\"))\n",
    "    val_csvs += list(paths.list_files(val_paths, validExts=\"csv\"))\n",
    "    test_csvs += list(paths.list_files(test_paths, validExts=\"csv\"))\n",
    "\n",
    "print(\"# train : {}, val: {}, and test files: {}\".format(len(train_csvs), len(val_csvs), len(test_csvs)))"
   ]
  },
  {
   "cell_type": "code",
   "execution_count": 3,
   "metadata": {},
   "outputs": [
    {
     "data": {
      "text/html": [
       "<div>\n",
       "<style scoped>\n",
       "    .dataframe tbody tr th:only-of-type {\n",
       "        vertical-align: middle;\n",
       "    }\n",
       "\n",
       "    .dataframe tbody tr th {\n",
       "        vertical-align: top;\n",
       "    }\n",
       "\n",
       "    .dataframe thead th {\n",
       "        text-align: right;\n",
       "    }\n",
       "</style>\n",
       "<table border=\"1\" class=\"dataframe\">\n",
       "  <thead>\n",
       "    <tr style=\"text-align: right;\">\n",
       "      <th></th>\n",
       "      <th>0</th>\n",
       "      <th>1</th>\n",
       "      <th>2</th>\n",
       "      <th>3</th>\n",
       "      <th>4</th>\n",
       "      <th>5</th>\n",
       "      <th>6</th>\n",
       "      <th>7</th>\n",
       "      <th>8</th>\n",
       "      <th>9</th>\n",
       "      <th>...</th>\n",
       "      <th>gz</th>\n",
       "      <th>ax</th>\n",
       "      <th>ay</th>\n",
       "      <th>az</th>\n",
       "      <th>mx</th>\n",
       "      <th>my</th>\n",
       "      <th>mz</th>\n",
       "      <th>x</th>\n",
       "      <th>y</th>\n",
       "      <th>z</th>\n",
       "    </tr>\n",
       "  </thead>\n",
       "  <tbody>\n",
       "    <tr>\n",
       "      <th>0</th>\n",
       "      <td>-37.0</td>\n",
       "      <td>-36.0</td>\n",
       "      <td>-36.0</td>\n",
       "      <td>-32.0</td>\n",
       "      <td>-33.0</td>\n",
       "      <td>-61.0</td>\n",
       "      <td>-52.0</td>\n",
       "      <td>-52.0</td>\n",
       "      <td>-70.0</td>\n",
       "      <td>-77.0</td>\n",
       "      <td>...</td>\n",
       "      <td>0.042150</td>\n",
       "      <td>-0.287304</td>\n",
       "      <td>9.370906</td>\n",
       "      <td>-2.770091</td>\n",
       "      <td>-11.040000</td>\n",
       "      <td>-56.399998</td>\n",
       "      <td>18.420000</td>\n",
       "      <td>0.016694</td>\n",
       "      <td>7.741971</td>\n",
       "      <td>1.801771</td>\n",
       "    </tr>\n",
       "    <tr>\n",
       "      <th>1</th>\n",
       "      <td>-37.0</td>\n",
       "      <td>-36.0</td>\n",
       "      <td>-36.0</td>\n",
       "      <td>-32.0</td>\n",
       "      <td>-33.0</td>\n",
       "      <td>-61.0</td>\n",
       "      <td>-52.0</td>\n",
       "      <td>-52.0</td>\n",
       "      <td>-70.0</td>\n",
       "      <td>-77.0</td>\n",
       "      <td>...</td>\n",
       "      <td>0.012828</td>\n",
       "      <td>0.356736</td>\n",
       "      <td>9.595961</td>\n",
       "      <td>-2.616862</td>\n",
       "      <td>-11.520000</td>\n",
       "      <td>-55.620000</td>\n",
       "      <td>18.359999</td>\n",
       "      <td>-0.008196</td>\n",
       "      <td>7.742290</td>\n",
       "      <td>1.801771</td>\n",
       "    </tr>\n",
       "    <tr>\n",
       "      <th>2</th>\n",
       "      <td>-37.0</td>\n",
       "      <td>-36.0</td>\n",
       "      <td>-36.0</td>\n",
       "      <td>-32.0</td>\n",
       "      <td>-33.0</td>\n",
       "      <td>-61.0</td>\n",
       "      <td>-52.0</td>\n",
       "      <td>-52.0</td>\n",
       "      <td>-70.0</td>\n",
       "      <td>-77.0</td>\n",
       "      <td>...</td>\n",
       "      <td>-0.036652</td>\n",
       "      <td>-0.047884</td>\n",
       "      <td>9.344569</td>\n",
       "      <td>-3.471592</td>\n",
       "      <td>-11.280000</td>\n",
       "      <td>-57.239998</td>\n",
       "      <td>19.560000</td>\n",
       "      <td>-0.033086</td>\n",
       "      <td>7.742609</td>\n",
       "      <td>1.801771</td>\n",
       "    </tr>\n",
       "    <tr>\n",
       "      <th>3</th>\n",
       "      <td>-37.0</td>\n",
       "      <td>-36.0</td>\n",
       "      <td>-36.0</td>\n",
       "      <td>-32.0</td>\n",
       "      <td>-33.0</td>\n",
       "      <td>-61.0</td>\n",
       "      <td>-52.0</td>\n",
       "      <td>-52.0</td>\n",
       "      <td>-70.0</td>\n",
       "      <td>-77.0</td>\n",
       "      <td>...</td>\n",
       "      <td>-0.014050</td>\n",
       "      <td>-0.318429</td>\n",
       "      <td>9.284714</td>\n",
       "      <td>-3.045425</td>\n",
       "      <td>-11.759999</td>\n",
       "      <td>-55.140000</td>\n",
       "      <td>18.660000</td>\n",
       "      <td>-0.057977</td>\n",
       "      <td>7.742928</td>\n",
       "      <td>1.801771</td>\n",
       "    </tr>\n",
       "    <tr>\n",
       "      <th>4</th>\n",
       "      <td>-37.0</td>\n",
       "      <td>-36.0</td>\n",
       "      <td>-36.0</td>\n",
       "      <td>-32.0</td>\n",
       "      <td>-33.0</td>\n",
       "      <td>-61.0</td>\n",
       "      <td>-52.0</td>\n",
       "      <td>-52.0</td>\n",
       "      <td>-70.0</td>\n",
       "      <td>-77.0</td>\n",
       "      <td>...</td>\n",
       "      <td>0.010996</td>\n",
       "      <td>0.371101</td>\n",
       "      <td>9.466674</td>\n",
       "      <td>-3.627216</td>\n",
       "      <td>-11.820000</td>\n",
       "      <td>-54.780000</td>\n",
       "      <td>18.480000</td>\n",
       "      <td>-0.082867</td>\n",
       "      <td>7.743247</td>\n",
       "      <td>1.801771</td>\n",
       "    </tr>\n",
       "  </tbody>\n",
       "</table>\n",
       "<p>5 rows × 232 columns</p>\n",
       "</div>"
      ],
      "text/plain": [
       "      0     1     2     3     4     5     6     7     8     9  ...        gz  \\\n",
       "0 -37.0 -36.0 -36.0 -32.0 -33.0 -61.0 -52.0 -52.0 -70.0 -77.0  ...  0.042150   \n",
       "1 -37.0 -36.0 -36.0 -32.0 -33.0 -61.0 -52.0 -52.0 -70.0 -77.0  ...  0.012828   \n",
       "2 -37.0 -36.0 -36.0 -32.0 -33.0 -61.0 -52.0 -52.0 -70.0 -77.0  ... -0.036652   \n",
       "3 -37.0 -36.0 -36.0 -32.0 -33.0 -61.0 -52.0 -52.0 -70.0 -77.0  ... -0.014050   \n",
       "4 -37.0 -36.0 -36.0 -32.0 -33.0 -61.0 -52.0 -52.0 -70.0 -77.0  ...  0.010996   \n",
       "\n",
       "         ax        ay        az         mx         my         mz         x  \\\n",
       "0 -0.287304  9.370906 -2.770091 -11.040000 -56.399998  18.420000  0.016694   \n",
       "1  0.356736  9.595961 -2.616862 -11.520000 -55.620000  18.359999 -0.008196   \n",
       "2 -0.047884  9.344569 -3.471592 -11.280000 -57.239998  19.560000 -0.033086   \n",
       "3 -0.318429  9.284714 -3.045425 -11.759999 -55.140000  18.660000 -0.057977   \n",
       "4  0.371101  9.466674 -3.627216 -11.820000 -54.780000  18.480000 -0.082867   \n",
       "\n",
       "          y         z  \n",
       "0  7.741971  1.801771  \n",
       "1  7.742290  1.801771  \n",
       "2  7.742609  1.801771  \n",
       "3  7.742928  1.801771  \n",
       "4  7.743247  1.801771  \n",
       "\n",
       "[5 rows x 232 columns]"
      ]
     },
     "execution_count": 3,
     "metadata": {},
     "output_type": "execute_result"
    }
   ],
   "source": [
    "# load the first csv file in the train set\n",
    "# as an example\n",
    "some_csv = pd.read_csv(train_csvs[0])\n",
    "some_csv.head()"
   ]
  },
  {
   "cell_type": "code",
   "execution_count": 4,
   "metadata": {},
   "outputs": [],
   "source": [
    "# function to calculate euclidean distance\n",
    "# between predicted and target positions\n",
    "def euclidean_distance(targets, preds):\n",
    "    errors_all = []\n",
    "    for pred, target in zip(preds, targets):\n",
    "        # calculate the euclidean distance between\n",
    "        # two vectors\n",
    "        error_cur = np.linalg.norm(pred - target)\n",
    "        # add the error to the list\n",
    "        errors_all.append(error_cur)\n",
    "    \n",
    "    # return the mean error\n",
    "    return np.mean(errors_all)"
   ]
  },
  {
   "cell_type": "code",
   "execution_count": 5,
   "metadata": {},
   "outputs": [],
   "source": [
    "# function to construct a feature matrix and \n",
    "# target vector for training ML models\n",
    "def build_x_y(csv_paths):\n",
    "    # loop over the list of csv files\n",
    "    for ind, csv_path in enumerate(csv_paths, 1):\n",
    "        csv_data = pd.read_csv(csv_path).to_numpy()\n",
    "        rows, cols = csv_data.shape\n",
    "        \n",
    "        # features and targets of the current file\n",
    "        X_ind = csv_data[:, :220] # RSS signals\n",
    "        X_ind[np.where(X_ind==0)] = -100.0\n",
    "        y_ind = csv_data[:, -3:]  # xyz positions\n",
    "        \n",
    "        # downsample \n",
    "        for i in range(rows):\n",
    "            if ind == 1 and i == 0:\n",
    "                X = X_ind[i:i+1, :]\n",
    "                y = y_ind[i:i+1, :]\n",
    "                continue\n",
    "            \n",
    "            euc_dst = np.linalg.norm(X[-1, :] - X_ind[i, :]) \n",
    "            if euc_dst > 0:\n",
    "                X = np.concatenate((X, X_ind[i:i+1, :]), axis=0)\n",
    "                y = np.concatenate((y, y_ind[i:i+1, :]), axis=0)\n",
    "            else:\n",
    "                continue        \n",
    "            \n",
    "    return X, y"
   ]
  },
  {
   "cell_type": "code",
   "execution_count": 6,
   "metadata": {},
   "outputs": [
    {
     "name": "stdout",
     "output_type": "stream",
     "text": [
      "(6049, 220) (6049, 3)\n"
     ]
    }
   ],
   "source": [
    "X_train, y_train = build_x_y(train_csvs)\n",
    "\n",
    "print(X_train.shape, y_train.shape)"
   ]
  },
  {
   "cell_type": "code",
   "execution_count": 7,
   "metadata": {},
   "outputs": [
    {
     "name": "stdout",
     "output_type": "stream",
     "text": [
      "(1976, 220) (1976, 3)\n"
     ]
    }
   ],
   "source": [
    "X_val, y_val = build_x_y(val_csvs)\n",
    "\n",
    "print(X_val.shape, y_val.shape)"
   ]
  },
  {
   "cell_type": "code",
   "execution_count": 8,
   "metadata": {},
   "outputs": [
    {
     "name": "stdout",
     "output_type": "stream",
     "text": [
      "(2601, 220) (2601, 3)\n"
     ]
    }
   ],
   "source": [
    "X_test, y_test = build_x_y(test_csvs)\n",
    "\n",
    "print(X_test.shape, y_test.shape)"
   ]
  },
  {
   "cell_type": "code",
   "execution_count": 9,
   "metadata": {},
   "outputs": [
    {
     "data": {
      "text/plain": [
       "GridSearchCV(cv=5, error_score=nan,\n",
       "             estimator=RandomForestRegressor(bootstrap=True, ccp_alpha=0.0,\n",
       "                                             criterion='mse', max_depth=None,\n",
       "                                             max_features='auto',\n",
       "                                             max_leaf_nodes=None,\n",
       "                                             max_samples=None,\n",
       "                                             min_impurity_decrease=0.0,\n",
       "                                             min_impurity_split=None,\n",
       "                                             min_samples_leaf=1,\n",
       "                                             min_samples_split=2,\n",
       "                                             min_weight_fraction_leaf=0.0,\n",
       "                                             n_estimators=100, n_jobs=10,\n",
       "                                             oob_score=False, random_state=42,\n",
       "                                             verbose=0, warm_start=False),\n",
       "             iid='deprecated', n_jobs=None,\n",
       "             param_grid=[{'bootstrap': [False], 'max_features': [50, 100],\n",
       "                          'n_estimators': [100, 200]}],\n",
       "             pre_dispatch='2*n_jobs', refit=True, return_train_score=True,\n",
       "             scoring='neg_mean_squared_error', verbose=0)"
      ]
     },
     "execution_count": 9,
     "metadata": {},
     "output_type": "execute_result"
    }
   ],
   "source": [
    "from sklearn.ensemble import RandomForestRegressor\n",
    "from sklearn.model_selection import GridSearchCV\n",
    "\n",
    "param_grid = [\n",
    "    {'bootstrap': [False], 'n_estimators': [100, 200], 'max_features': [50, 100]},\n",
    "  ]\n",
    "\n",
    "forest_reg = RandomForestRegressor(n_jobs=10, random_state=42)\n",
    "\n",
    "grid_search = GridSearchCV(forest_reg, param_grid, cv=5,\n",
    "                           scoring='neg_mean_squared_error',\n",
    "                           return_train_score=True)\n",
    "\n",
    "grid_search.fit(X_train, y_train)"
   ]
  },
  {
   "cell_type": "code",
   "execution_count": 10,
   "metadata": {},
   "outputs": [
    {
     "data": {
      "text/plain": [
       "{'bootstrap': False, 'max_features': 50, 'n_estimators': 200}"
      ]
     },
     "execution_count": 10,
     "metadata": {},
     "output_type": "execute_result"
    }
   ],
   "source": [
    "grid_search.best_params_"
   ]
  },
  {
   "cell_type": "code",
   "execution_count": 11,
   "metadata": {},
   "outputs": [
    {
     "name": "stdout",
     "output_type": "stream",
     "text": [
      "1.902076419165772 {'n_estimators': 100, 'bootstrap': False, 'max_features': 50}\n",
      "1.8907510349370509 {'n_estimators': 200, 'bootstrap': False, 'max_features': 50}\n",
      "1.9628386381094654 {'n_estimators': 100, 'bootstrap': False, 'max_features': 100}\n",
      "1.9866590245213485 {'n_estimators': 200, 'bootstrap': False, 'max_features': 100}\n"
     ]
    }
   ],
   "source": [
    "cvres = grid_search.cv_results_\n",
    "for mean_score, params in zip(cvres[\"mean_test_score\"], cvres[\"params\"]):\n",
    "    print(np.sqrt(-mean_score), params)"
   ]
  },
  {
   "cell_type": "code",
   "execution_count": 12,
   "metadata": {},
   "outputs": [
    {
     "name": "stdout",
     "output_type": "stream",
     "text": [
      "Random Forest. RMSE: 1.197, MSE: 1.433, ED: 1.649\n"
     ]
    }
   ],
   "source": [
    "from sklearn.metrics import mean_squared_error\n",
    "\n",
    "forest_preds = grid_search.best_estimator_.predict(X_val)\n",
    "\n",
    "forest_mse = mean_squared_error(y_val, forest_preds)\n",
    "forest_rmse = np.sqrt(forest_mse)\n",
    "forest_euc = euclidean_distance(y_val, forest_preds)\n",
    "\n",
    "print(\"Random Forest. RMSE: {:.3f}, MSE: {:.3f}, ED: {:.3f}\".format(forest_rmse, forest_mse, forest_euc))"
   ]
  },
  {
   "cell_type": "code",
   "execution_count": 13,
   "metadata": {},
   "outputs": [
    {
     "name": "stdout",
     "output_type": "stream",
     "text": [
      "Random Forest. RMSE: 1.156, MSE: 1.336, ED: 1.567\n"
     ]
    }
   ],
   "source": [
    "forest_preds = grid_search.best_estimator_.predict(X_test)\n",
    "\n",
    "forest_mse = mean_squared_error(y_test, forest_preds)\n",
    "forest_rmse = np.sqrt(forest_mse)\n",
    "forest_euc = euclidean_distance(y_test, forest_preds)\n",
    "\n",
    "print(\"Random Forest. RMSE: {:.3f}, MSE: {:.3f}, ED: {:.3f}\".format(forest_rmse, forest_mse, forest_euc))"
   ]
  },
  {
   "cell_type": "code",
   "execution_count": null,
   "metadata": {},
   "outputs": [],
   "source": []
  }
 ],
 "metadata": {
  "kernelspec": {
   "display_name": "Python 3",
   "language": "python",
   "name": "python3"
  },
  "language_info": {
   "codemirror_mode": {
    "name": "ipython",
    "version": 3
   },
   "file_extension": ".py",
   "mimetype": "text/x-python",
   "name": "python",
   "nbconvert_exporter": "python",
   "pygments_lexer": "ipython3",
   "version": "3.5.2"
  }
 },
 "nbformat": 4,
 "nbformat_minor": 4
}
