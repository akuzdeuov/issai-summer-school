{
 "cells": [
  {
   "cell_type": "code",
   "execution_count": 1,
   "metadata": {},
   "outputs": [],
   "source": [
    "# Python >= 3.5 is required\n",
    "import sys\n",
    "assert sys.version_info >= (3,5)\n",
    "\n",
    "# Scikit-Learn >= 0.20 is required\n",
    "import sklearn \n",
    "assert sklearn.__version__ >= \"0.20\"\n",
    "\n",
    "# common imports\n",
    "import pandas as pd\n",
    "import numpy as np \n",
    "import os \n",
    "\n",
    "PROJECT_ROOT_DIR = \".\"\n",
    "DATASET_PATH = os.path.join(PROJECT_ROOT_DIR, \"wifi_dataset\")"
   ]
  },
  {
   "cell_type": "code",
   "execution_count": 2,
   "metadata": {},
   "outputs": [],
   "source": [
    "# path to csv files\n",
    "train_csv_path = os.path.join(DATASET_PATH, \"train\")\n",
    "val_csv_path = os.path.join(DATASET_PATH, \"val\")\n",
    "test_csv_path = os.path.join(DATASET_PATH, \"test\")"
   ]
  },
  {
   "cell_type": "code",
   "execution_count": 4,
   "metadata": {},
   "outputs": [],
   "source": [
    "# function to construct a feature matrix and \n",
    "# the target vector for training models\n",
    "def build_x_y(csv_paths):\n",
    "    # total number of csv files in\n",
    "    # the folder\n",
    "    num_csvs = len(os.listdir(csv_paths))\n",
    "    \n",
    "    # loop over the csv files\n",
    "    for i in range(num_csvs):\n",
    "        # read the csv file\n",
    "        csv_data = pd.read_csv(os.path.join(csv_paths, \"{}.csv\".format(i+1)), header=None).to_numpy()\n",
    "        \n",
    "        # features and targets\n",
    "        X_i = csv_data[:, :220] # RSS signals\n",
    "        y_i = csv_data[:, -3:]  # xyz positions\n",
    "        \n",
    "        if i == 0:\n",
    "            X = X_i\n",
    "            y = y_i\n",
    "        else:\n",
    "            X = np.concatenate((X, X_i), axis=0)\n",
    "            y = np.concatenate((y, y_i), axis=0)\n",
    "            \n",
    "    return X, y"
   ]
  },
  {
   "cell_type": "code",
   "execution_count": 6,
   "metadata": {},
   "outputs": [
    {
     "name": "stdout",
     "output_type": "stream",
     "text": [
      "(6049, 220) (6049, 3)\n"
     ]
    }
   ],
   "source": [
    "X_train, y_train = build_x_y(train_csv_path)\n",
    "\n",
    "print(X_train.shape, y_train.shape)"
   ]
  },
  {
   "cell_type": "code",
   "execution_count": 7,
   "metadata": {},
   "outputs": [
    {
     "name": "stdout",
     "output_type": "stream",
     "text": [
      "(1976, 220) (1976, 3)\n"
     ]
    }
   ],
   "source": [
    "X_val, y_val = build_x_y(val_csv_path)\n",
    "\n",
    "print(X_val.shape, y_val.shape)"
   ]
  },
  {
   "cell_type": "code",
   "execution_count": 5,
   "metadata": {},
   "outputs": [],
   "source": [
    "# function to construct a feature matrix \n",
    "def build_x(csv_paths):\n",
    "    # total number of csv files in\n",
    "    # the folder\n",
    "    num_csvs = len(os.listdir(csv_paths))\n",
    "    \n",
    "    # loop over the csv files\n",
    "    for i in range(num_csvs):\n",
    "        # read the csv file\n",
    "        csv_data = pd.read_csv(os.path.join(csv_paths, \"{}.csv\".format(i+1)), header=None).to_numpy()\n",
    "        \n",
    "        if i == 0:\n",
    "            X = csv_data\n",
    "        else:\n",
    "            X = np.concatenate((X, csv_data), axis=0)\n",
    "            \n",
    "    return X"
   ]
  },
  {
   "cell_type": "code",
   "execution_count": 8,
   "metadata": {},
   "outputs": [
    {
     "name": "stdout",
     "output_type": "stream",
     "text": [
      "(2601, 220)\n"
     ]
    }
   ],
   "source": [
    "X_test = build_x(test_csv_path)\n",
    "\n",
    "print(X_test.shape)"
   ]
  },
  {
   "cell_type": "code",
   "execution_count": 9,
   "metadata": {},
   "outputs": [
    {
     "data": {
      "text/plain": [
       "GridSearchCV(cv=5, error_score=nan,\n",
       "             estimator=RandomForestRegressor(bootstrap=True, ccp_alpha=0.0,\n",
       "                                             criterion='mse', max_depth=None,\n",
       "                                             max_features='auto',\n",
       "                                             max_leaf_nodes=None,\n",
       "                                             max_samples=None,\n",
       "                                             min_impurity_decrease=0.0,\n",
       "                                             min_impurity_split=None,\n",
       "                                             min_samples_leaf=1,\n",
       "                                             min_samples_split=2,\n",
       "                                             min_weight_fraction_leaf=0.0,\n",
       "                                             n_estimators=100, n_jobs=10,\n",
       "                                             oob_score=False, random_state=42,\n",
       "                                             verbose=0, warm_start=False),\n",
       "             iid='deprecated', n_jobs=None,\n",
       "             param_grid=[{'bootstrap': [False], 'max_features': [5, 10],\n",
       "                          'n_estimators': [10, 20]}],\n",
       "             pre_dispatch='2*n_jobs', refit=True, return_train_score=True,\n",
       "             scoring='neg_mean_squared_error', verbose=0)"
      ]
     },
     "execution_count": 9,
     "metadata": {},
     "output_type": "execute_result"
    }
   ],
   "source": [
    "from sklearn.ensemble import RandomForestRegressor\n",
    "from sklearn.model_selection import GridSearchCV\n",
    "\n",
    "param_grid = [\n",
    "    {'bootstrap': [False], 'n_estimators': [10, 20], 'max_features': [5, 10]},\n",
    "  ]\n",
    "\n",
    "forest_reg = RandomForestRegressor(n_jobs=10, random_state=42)\n",
    "\n",
    "grid_search = GridSearchCV(forest_reg, param_grid, cv=5,\n",
    "                           scoring='neg_mean_squared_error',\n",
    "                           return_train_score=True)\n",
    "\n",
    "grid_search.fit(X_train, y_train)"
   ]
  },
  {
   "cell_type": "code",
   "execution_count": 10,
   "metadata": {},
   "outputs": [
    {
     "data": {
      "text/plain": [
       "{'bootstrap': False, 'max_features': 10, 'n_estimators': 20}"
      ]
     },
     "execution_count": 10,
     "metadata": {},
     "output_type": "execute_result"
    }
   ],
   "source": [
    "grid_search.best_params_"
   ]
  },
  {
   "cell_type": "code",
   "execution_count": 3,
   "metadata": {},
   "outputs": [],
   "source": [
    "# function to calculate euclidean distance\n",
    "# between predicted and target positions\n",
    "def euclidean_distance(targets, preds):\n",
    "    errors_all = []\n",
    "    for pred, target in zip(preds, targets):\n",
    "        # calculate the euclidean distance between\n",
    "        # two vectors\n",
    "        error_cur = np.linalg.norm(pred - target)\n",
    "        # add the error to the list\n",
    "        errors_all.append(error_cur)\n",
    "    \n",
    "    # return the mean error\n",
    "    return np.mean(errors_all)"
   ]
  },
  {
   "cell_type": "code",
   "execution_count": 11,
   "metadata": {},
   "outputs": [
    {
     "name": "stdout",
     "output_type": "stream",
     "text": [
      "2.312796809709961 {'max_features': 5, 'bootstrap': False, 'n_estimators': 10}\n",
      "2.1364291274500435 {'max_features': 5, 'bootstrap': False, 'n_estimators': 20}\n",
      "2.2085877087705876 {'max_features': 10, 'bootstrap': False, 'n_estimators': 10}\n",
      "2.037025936527828 {'max_features': 10, 'bootstrap': False, 'n_estimators': 20}\n"
     ]
    }
   ],
   "source": [
    "cvres = grid_search.cv_results_\n",
    "for mean_score, params in zip(cvres[\"mean_test_score\"], cvres[\"params\"]):\n",
    "    print(np.sqrt(-mean_score), params)"
   ]
  },
  {
   "cell_type": "code",
   "execution_count": 12,
   "metadata": {},
   "outputs": [
    {
     "name": "stdout",
     "output_type": "stream",
     "text": [
      "Random Forest. RMSE: 1.452, MSE: 2.109, ED: 2.000\n"
     ]
    }
   ],
   "source": [
    "from sklearn.metrics import mean_squared_error\n",
    "\n",
    "forest_preds = grid_search.best_estimator_.predict(X_val)\n",
    "\n",
    "forest_mse = mean_squared_error(y_val, forest_preds)\n",
    "forest_rmse = np.sqrt(forest_mse)\n",
    "forest_euc = euclidean_distance(y_val, forest_preds)\n",
    "\n",
    "print(\"Random Forest. RMSE: {:.3f}, MSE: {:.3f}, ED: {:.3f}\".format(forest_rmse, forest_mse, forest_euc))"
   ]
  },
  {
   "cell_type": "code",
   "execution_count": 13,
   "metadata": {},
   "outputs": [],
   "source": [
    "name = \"John\"\n",
    "surname = \"Snow\"\n",
    "\n",
    "forest_preds = grid_search.best_estimator_.predict(X_test)\n",
    "pd.DataFrame(forest_preds).to_csv(\"{}_{}.csv\".format(name, surname), header=None, index=None)"
   ]
  },
  {
   "cell_type": "code",
   "execution_count": null,
   "metadata": {},
   "outputs": [],
   "source": []
  }
 ],
 "metadata": {
  "kernelspec": {
   "display_name": "Python 3",
   "language": "python",
   "name": "python3"
  },
  "language_info": {
   "codemirror_mode": {
    "name": "ipython",
    "version": 3
   },
   "file_extension": ".py",
   "mimetype": "text/x-python",
   "name": "python",
   "nbconvert_exporter": "python",
   "pygments_lexer": "ipython3",
   "version": "3.8.5"
  }
 },
 "nbformat": 4,
 "nbformat_minor": 4
}
