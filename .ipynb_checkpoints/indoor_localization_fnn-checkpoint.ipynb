{
 "cells": [
  {
   "cell_type": "code",
   "execution_count": 1,
   "metadata": {},
   "outputs": [],
   "source": [
    "# Python >= 3.5 is required\n",
    "import sys\n",
    "assert sys.version_info >= (3,5)\n",
    "\n",
    "# Scikit-Learn >= 0.20 is required\n",
    "import sklearn \n",
    "assert sklearn.__version__ >= \"0.20\"\n",
    "\n",
    "# common imports\n",
    "import pandas as pd\n",
    "import numpy as np \n",
    "import os \n",
    "\n",
    "# to plot pretty figures\n",
    "%matplotlib inline \n",
    "import matplotlib as mpl \n",
    "import matplotlib.pyplot as plt \n",
    "mpl.rc('axes', labelsize=14)\n",
    "mpl.rc('xtick', labelsize=12)\n",
    "mpl.rc('ytick', labelsize=12)\n",
    "\n",
    "PROJECT_ROOT_DIR = \".\"\n",
    "DATASET_PATH = os.path.join(PROJECT_ROOT_DIR, \"wifi_dataset\")\n",
    "IMAGES_PATH = os.path.join(PROJECT_ROOT_DIR, \"images\")\n",
    "os.makedirs(IMAGES_PATH, exist_ok=True)\n",
    "\n",
    "def save_fig(fig_id, tight_layout=True, fig_extension=\"png\", resolution=300):\n",
    "    path = os.path.join(IMAGES_PATH, fig_id + \".\" + fig_extension)\n",
    "    print(\"Saving figure\", fig_id)\n",
    "    if tight_layout:\n",
    "        plt.tight_layout()\n",
    "    plt.savefig(path, format=fig_extension, dpi=resolution)"
   ]
  },
  {
   "cell_type": "code",
   "execution_count": 2,
   "metadata": {},
   "outputs": [],
   "source": [
    "# path to csv files\n",
    "train_csv_path = os.path.join(DATASET_PATH, \"train\")\n",
    "val_csv_path = os.path.join(DATASET_PATH, \"val\")\n",
    "test_csv_path = os.path.join(DATASET_PATH, \"test\")"
   ]
  },
  {
   "cell_type": "markdown",
   "metadata": {},
   "source": [
    "## Part 3. <font color=green>Predicting of a user's coordinates using feed forward neural networks</font>\n",
    "\n"
   ]
  },
  {
   "cell_type": "markdown",
   "metadata": {},
   "source": [
    "### Task 1. Copy and paste your previous implementations of <font color=blue>build_feats</font>, <font color=blue>build_feats_targets</font>, and <font color=blue>euclidean_distance</font>\n",
    "\n"
   ]
  },
  {
   "cell_type": "code",
   "execution_count": null,
   "metadata": {},
   "outputs": [],
   "source": [
    "def build_feats(path_to_csvs):\n",
    "    #TODO: copy and paste your implementation here \n",
    "    \n",
    "    \n",
    "    return feats\n",
    "\n",
    "def build_feats_targets(path_to_csvs):\n",
    "    #TODO: copy and paste your implementation here \n",
    "    \n",
    "    \n",
    "    return feats, targets\n",
    "\n",
    "def euclidean_distance(targets, preds):\n",
    "    # TODO: copy and paste your implementation here \n",
    "\n",
    "    \n",
    "    return dist\n"
   ]
  },
  {
   "cell_type": "code",
   "execution_count": 3,
   "metadata": {},
   "outputs": [],
   "source": [
    "# function to calculate euclidean distance\n",
    "# between predicted and target positions\n",
    "def euclidean_distance(targets, preds):\n",
    "    errors_all = []\n",
    "    for pred, target in zip(preds, targets):\n",
    "        # calculate the euclidean distance between\n",
    "        # two vectors\n",
    "        error_cur = np.linalg.norm(pred - target)\n",
    "        # add the error to the list\n",
    "        errors_all.append(error_cur)\n",
    "    \n",
    "    # return the mean error\n",
    "    return np.mean(errors_all)"
   ]
  },
  {
   "cell_type": "code",
   "execution_count": 4,
   "metadata": {},
   "outputs": [],
   "source": [
    "# function to construct a feature matrix and \n",
    "# the target vector for training models\n",
    "def build_x_y(csv_paths):\n",
    "    # total number of csv files in\n",
    "    # the folder\n",
    "    num_csvs = len(os.listdir(csv_paths))\n",
    "    \n",
    "    # loop over the csv files\n",
    "    for i in range(num_csvs):\n",
    "        # read the csv file\n",
    "        csv_data = pd.read_csv(os.path.join(csv_paths, \"{}.csv\".format(i+1)), header=None).to_numpy()\n",
    "        \n",
    "        # features and targets\n",
    "        X_i = csv_data[:, :220] # RSS signals\n",
    "        y_i = csv_data[:, -3:]  # xyz positions\n",
    "        \n",
    "        if i == 0:\n",
    "            X = X_i\n",
    "            y = y_i\n",
    "        else:\n",
    "            X = np.concatenate((X, X_i), axis=0)\n",
    "            y = np.concatenate((y, y_i), axis=0)\n",
    "            \n",
    "    return X, y"
   ]
  },
  {
   "cell_type": "code",
   "execution_count": 5,
   "metadata": {},
   "outputs": [],
   "source": [
    "# function to construct a feature matrix \n",
    "def build_x(csv_paths):\n",
    "    # total number of csv files in\n",
    "    # the folder\n",
    "    num_csvs = len(os.listdir(csv_paths))\n",
    "    \n",
    "    # loop over the csv files\n",
    "    for i in range(num_csvs):\n",
    "        # read the csv file\n",
    "        csv_data = pd.read_csv(os.path.join(csv_paths, \"{}.csv\".format(i+1)), header=None).to_numpy()\n",
    "        \n",
    "        if i == 0:\n",
    "            X = csv_data\n",
    "        else:\n",
    "            X = np.concatenate((X, csv_data), axis=0)\n",
    "            \n",
    "    return X"
   ]
  },
  {
   "cell_type": "code",
   "execution_count": 6,
   "metadata": {},
   "outputs": [
    {
     "name": "stdout",
     "output_type": "stream",
     "text": [
      "(6049, 220) (6049, 3)\n"
     ]
    }
   ],
   "source": [
    "X_train, y_train = build_x_y(train_csv_path)\n",
    "X_train = (X_train.astype('float32') + 100.0) / 100.0\n",
    "\n",
    "mean = np.mean(X_train)\n",
    "\n",
    "X_train_norm = (X_train - mean)\n",
    "\n",
    "print(X_train_norm.shape, y_train.shape)"
   ]
  },
  {
   "cell_type": "code",
   "execution_count": 7,
   "metadata": {},
   "outputs": [
    {
     "name": "stdout",
     "output_type": "stream",
     "text": [
      "(1976, 220) (1976, 3)\n"
     ]
    }
   ],
   "source": [
    "X_val, y_val = build_x_y(val_csv_path)\n",
    "X_val = (X_val.astype('float32') + 100.0) / 100.0\n",
    "X_val_norm = (X_val - mean)\n",
    "\n",
    "print(X_val_norm.shape, y_val.shape)"
   ]
  },
  {
   "cell_type": "code",
   "execution_count": 8,
   "metadata": {},
   "outputs": [
    {
     "name": "stdout",
     "output_type": "stream",
     "text": [
      "(2601, 220)\n"
     ]
    }
   ],
   "source": [
    "X_test = build_x(test_csv_path)\n",
    "X_test = (X_test.astype('float32') + 100.0) / 100.0\n",
    "X_test_norm = (X_test - mean)\n",
    "\n",
    "print(X_test_norm.shape)"
   ]
  },
  {
   "cell_type": "code",
   "execution_count": 9,
   "metadata": {},
   "outputs": [],
   "source": [
    "def lr_schedule(epoch):\n",
    "    \"\"\"Learning Rate Schedule\n",
    "        # Arguments\n",
    "            epoch (int): The number of epochs\n",
    "\n",
    "        # Returns\n",
    "            lr (float32): learning rate\n",
    "    \"\"\"\n",
    "    lr = 1e-3\n",
    "    if epoch > 50:\n",
    "        lr = 1e-4\n",
    "        \n",
    "    print('Learning rate: ', lr)\n",
    "    return lr"
   ]
  },
  {
   "cell_type": "code",
   "execution_count": 10,
   "metadata": {},
   "outputs": [],
   "source": [
    "from tensorflow.keras.models import Sequential\n",
    "from tensorflow.keras.layers import Dense, Activation, Dropout\n",
    "from tensorflow.keras.callbacks import ModelCheckpoint, LearningRateScheduler\n",
    "from tensorflow.keras.callbacks import ReduceLROnPlateau\n",
    "from tensorflow.keras.optimizers import Adam\n",
    "\n",
    "lr_scheduler = LearningRateScheduler(lr_schedule)\n",
    "\n",
    "lr_reducer = ReduceLROnPlateau(factor=np.sqrt(0.1),\n",
    "                               cooldown=0,\n",
    "                               patience=5,\n",
    "                               min_lr=0.5e-6)\n",
    "\n",
    "callbacks = [lr_reducer, lr_scheduler]"
   ]
  },
  {
   "cell_type": "code",
   "execution_count": 11,
   "metadata": {},
   "outputs": [
    {
     "name": "stdout",
     "output_type": "stream",
     "text": [
      "Model: \"sequential\"\n",
      "_________________________________________________________________\n",
      "Layer (type)                 Output Shape              Param #   \n",
      "=================================================================\n",
      "dense (Dense)                (None, 128)               28288     \n",
      "_________________________________________________________________\n",
      "activation (Activation)      (None, 128)               0         \n",
      "_________________________________________________________________\n",
      "dropout (Dropout)            (None, 128)               0         \n",
      "_________________________________________________________________\n",
      "dense_1 (Dense)              (None, 128)               16512     \n",
      "_________________________________________________________________\n",
      "activation_1 (Activation)    (None, 128)               0         \n",
      "_________________________________________________________________\n",
      "dropout_1 (Dropout)          (None, 128)               0         \n",
      "_________________________________________________________________\n",
      "dense_2 (Dense)              (None, 128)               16512     \n",
      "_________________________________________________________________\n",
      "activation_2 (Activation)    (None, 128)               0         \n",
      "_________________________________________________________________\n",
      "dropout_2 (Dropout)          (None, 128)               0         \n",
      "_________________________________________________________________\n",
      "dense_3 (Dense)              (None, 3)                 387       \n",
      "=================================================================\n",
      "Total params: 61,699\n",
      "Trainable params: 61,699\n",
      "Non-trainable params: 0\n",
      "_________________________________________________________________\n"
     ]
    }
   ],
   "source": [
    "# network parameters\n",
    "input_size = X_train.shape[1]\n",
    "epochs = 100\n",
    "batch_size = 8\n",
    "hidden_units = 128\n",
    "dropout = 0.1\n",
    "\n",
    "# model is a 3-layer MLP with ReLU and dropout after each layer\n",
    "model = Sequential()\n",
    "model.add(Dense(hidden_units, input_dim=input_size))\n",
    "model.add(Activation('relu'))\n",
    "model.add(Dropout(dropout))\n",
    "model.add(Dense(hidden_units))\n",
    "model.add(Activation('relu'))\n",
    "model.add(Dropout(dropout))\n",
    "model.add(Dense(hidden_units))\n",
    "model.add(Activation('relu'))\n",
    "model.add(Dropout(dropout))\n",
    "model.add(Dense(3))\n",
    "model.summary()"
   ]
  },
  {
   "cell_type": "code",
   "execution_count": 12,
   "metadata": {},
   "outputs": [
    {
     "name": "stdout",
     "output_type": "stream",
     "text": [
      "Learning rate:  0.001\n",
      "Epoch 1/100\n",
      "757/757 [==============================] - 1s 851us/step - mae: 4.0692 - loss: 46.7438 - val_mae: 2.1989 - val_loss: 9.7328\n",
      "Epoch 2/100\n",
      "757/757 [==============================] - 1s 734us/step - mae: 2.5281 - loss: 12.7580 - val_mae: 1.9792 - val_loss: 8.1429\n",
      "Epoch 3/100\n",
      "757/757 [==============================] - 1s 741us/step - mae: 2.3303 - loss: 11.0355 - val_mae: 1.6948 - val_loss: 6.6108\n",
      "Epoch 4/100\n",
      "757/757 [==============================] - 1s 713us/step - mae: 2.1819 - loss: 9.8543 - val_mae: 1.5244 - val_loss: 5.4555\n",
      "Epoch 5/100\n",
      "757/757 [==============================] - 1s 709us/step - mae: 2.0765 - loss: 9.0563 - val_mae: 1.5114 - val_loss: 5.1678\n",
      "Epoch 6/100\n",
      "757/757 [==============================] - 1s 720us/step - mae: 2.0092 - loss: 8.4094 - val_mae: 1.4013 - val_loss: 4.4203\n",
      "Epoch 7/100\n",
      "757/757 [==============================] - 1s 752us/step - mae: 1.9096 - loss: 7.5486 - val_mae: 1.3594 - val_loss: 4.4605\n",
      "Epoch 8/100\n",
      "757/757 [==============================] - 1s 740us/step - mae: 1.9190 - loss: 7.6754 - val_mae: 1.2780 - val_loss: 3.8130\n",
      "Epoch 9/100\n",
      "757/757 [==============================] - 1s 725us/step - mae: 1.8503 - loss: 7.1113 - val_mae: 1.3521 - val_loss: 4.6245\n",
      "Epoch 10/100\n",
      "757/757 [==============================] - 1s 699us/step - mae: 1.7995 - loss: 6.7066 - val_mae: 1.3332 - val_loss: 3.9199\n",
      "Epoch 11/100\n",
      "757/757 [==============================] - 1s 810us/step - mae: 1.7718 - loss: 6.5512 - val_mae: 1.2624 - val_loss: 3.6544\n",
      "Epoch 12/100\n",
      "757/757 [==============================] - 1s 733us/step - mae: 1.7608 - loss: 6.4526 - val_mae: 1.2871 - val_loss: 4.0145\n",
      "Epoch 13/100\n",
      "757/757 [==============================] - 1s 712us/step - mae: 1.7245 - loss: 6.2666 - val_mae: 1.3281 - val_loss: 3.5714\n",
      "Epoch 14/100\n",
      "757/757 [==============================] - 1s 768us/step - mae: 1.6780 - loss: 5.8755 - val_mae: 1.1980 - val_loss: 3.4242\n",
      "Epoch 15/100\n",
      "757/757 [==============================] - 1s 778us/step - mae: 1.6647 - loss: 5.7473 - val_mae: 1.1246 - val_loss: 2.8935\n",
      "Epoch 16/100\n",
      "757/757 [==============================] - 1s 770us/step - mae: 1.6201 - loss: 5.4428 - val_mae: 1.1627 - val_loss: 3.2417\n",
      "Epoch 17/100\n",
      "757/757 [==============================] - 1s 725us/step - mae: 1.6071 - loss: 5.4131 - val_mae: 1.0238 - val_loss: 2.5482\n",
      "Epoch 18/100\n",
      "757/757 [==============================] - 1s 726us/step - mae: 1.5815 - loss: 5.2294 - val_mae: 1.2274 - val_loss: 3.7315\n",
      "Epoch 19/100\n",
      "757/757 [==============================] - 1s 724us/step - mae: 1.5725 - loss: 5.1753 - val_mae: 1.0406 - val_loss: 2.6023\n",
      "Epoch 20/100\n",
      "757/757 [==============================] - 1s 816us/step - mae: 1.5311 - loss: 4.8781 - val_mae: 1.2292 - val_loss: 3.1468\n",
      "Epoch 21/100\n",
      "757/757 [==============================] - 1s 760us/step - mae: 1.5290 - loss: 4.8617 - val_mae: 1.1720 - val_loss: 2.9185\n",
      "Epoch 22/100\n",
      "757/757 [==============================] - 1s 732us/step - mae: 1.4893 - loss: 4.5301 - val_mae: 1.0353 - val_loss: 2.6117\n",
      "Epoch 23/100\n",
      "757/757 [==============================] - 1s 743us/step - mae: 1.4904 - loss: 4.6366 - val_mae: 1.0280 - val_loss: 2.4028\n",
      "Epoch 24/100\n",
      "757/757 [==============================] - 1s 770us/step - mae: 1.4787 - loss: 4.5441 - val_mae: 1.0334 - val_loss: 2.7091\n",
      "Epoch 25/100\n",
      "757/757 [==============================] - 1s 834us/step - mae: 1.4680 - loss: 4.3806 - val_mae: 0.9812 - val_loss: 2.2282\n",
      "Epoch 26/100\n",
      "757/757 [==============================] - 1s 736us/step - mae: 1.4370 - loss: 4.2921 - val_mae: 1.2799 - val_loss: 3.0961\n",
      "Epoch 27/100\n",
      "757/757 [==============================] - 1s 784us/step - mae: 1.4188 - loss: 4.1709 - val_mae: 1.0022 - val_loss: 2.3956\n",
      "Epoch 28/100\n",
      "757/757 [==============================] - 1s 750us/step - mae: 1.4111 - loss: 4.0960 - val_mae: 1.0487 - val_loss: 2.7012\n",
      "Epoch 29/100\n",
      "757/757 [==============================] - 1s 731us/step - mae: 1.3727 - loss: 3.9813 - val_mae: 1.0145 - val_loss: 2.2840\n",
      "Epoch 30/100\n",
      "757/757 [==============================] - 1s 812us/step - mae: 1.3818 - loss: 3.9961 - val_mae: 0.9793 - val_loss: 2.2989\n",
      "Epoch 31/100\n",
      "757/757 [==============================] - 1s 764us/step - mae: 1.3545 - loss: 3.8233 - val_mae: 1.0459 - val_loss: 2.7143\n",
      "Epoch 32/100\n",
      "757/757 [==============================] - 1s 901us/step - mae: 1.3430 - loss: 3.7492 - val_mae: 1.0019 - val_loss: 2.5107\n",
      "Epoch 33/100\n",
      "757/757 [==============================] - 1s 757us/step - mae: 1.3638 - loss: 3.8434 - val_mae: 1.0913 - val_loss: 2.6242\n",
      "Epoch 34/100\n",
      "757/757 [==============================] - 1s 755us/step - mae: 1.3272 - loss: 3.5988 - val_mae: 0.9044 - val_loss: 2.1248\n",
      "Epoch 35/100\n",
      "757/757 [==============================] - 1s 805us/step - mae: 1.3106 - loss: 3.5463 - val_mae: 0.8676 - val_loss: 1.8243\n",
      "Epoch 36/100\n",
      "757/757 [==============================] - 1s 757us/step - mae: 1.3180 - loss: 3.5512 - val_mae: 0.9413 - val_loss: 2.1216\n",
      "Epoch 37/100\n",
      "757/757 [==============================] - 1s 783us/step - mae: 1.3005 - loss: 3.4771 - val_mae: 0.8561 - val_loss: 1.8036\n",
      "Epoch 38/100\n",
      "757/757 [==============================] - 1s 779us/step - mae: 1.2718 - loss: 3.3684 - val_mae: 0.8933 - val_loss: 2.0123\n",
      "Epoch 39/100\n",
      "757/757 [==============================] - 1s 781us/step - mae: 1.2843 - loss: 3.4348 - val_mae: 0.8436 - val_loss: 1.9053\n",
      "Epoch 40/100\n",
      "757/757 [==============================] - 1s 761us/step - mae: 1.2741 - loss: 3.4046 - val_mae: 1.0014 - val_loss: 2.6136\n",
      "Epoch 41/100\n",
      "757/757 [==============================] - 1s 778us/step - mae: 1.2699 - loss: 3.3482 - val_mae: 0.8468 - val_loss: 1.8131\n",
      "Epoch 42/100\n",
      "757/757 [==============================] - 1s 783us/step - mae: 1.2803 - loss: 3.4415 - val_mae: 0.8158 - val_loss: 1.7261\n",
      "Epoch 43/100\n",
      "757/757 [==============================] - 1s 758us/step - mae: 1.2554 - loss: 3.3084 - val_mae: 1.0431 - val_loss: 3.0214\n",
      "Epoch 44/100\n",
      "757/757 [==============================] - 1s 791us/step - mae: 1.2463 - loss: 3.2030 - val_mae: 0.9295 - val_loss: 2.3086\n",
      "Epoch 45/100\n",
      "757/757 [==============================] - 1s 777us/step - mae: 1.2397 - loss: 3.2181 - val_mae: 0.9012 - val_loss: 1.9830\n",
      "Epoch 46/100\n",
      "757/757 [==============================] - 1s 751us/step - mae: 1.2286 - loss: 3.1899 - val_mae: 0.9138 - val_loss: 1.9548\n",
      "Epoch 47/100\n",
      "757/757 [==============================] - 1s 781us/step - mae: 1.1976 - loss: 3.0069 - val_mae: 0.9340 - val_loss: 2.3233\n",
      "Epoch 48/100\n",
      "757/757 [==============================] - 1s 796us/step - mae: 1.2053 - loss: 3.0192 - val_mae: 0.8554 - val_loss: 1.8176\n",
      "Epoch 49/100\n",
      "757/757 [==============================] - 1s 829us/step - mae: 1.2108 - loss: 3.1635 - val_mae: 0.8775 - val_loss: 2.0405\n",
      "Epoch 50/100\n",
      "757/757 [==============================] - 1s 822us/step - mae: 1.1994 - loss: 3.0249 - val_mae: 0.8165 - val_loss: 1.7014\n",
      "Epoch 51/100\n",
      "757/757 [==============================] - 1s 781us/step - mae: 1.1915 - loss: 2.9956 - val_mae: 0.8466 - val_loss: 1.7714\n",
      "Epoch 52/100\n",
      "757/757 [==============================] - 1s 815us/step - mae: 1.1990 - loss: 3.0652 - val_mae: 0.8606 - val_loss: 1.9452\n",
      "Epoch 53/100\n",
      "757/757 [==============================] - 1s 766us/step - mae: 1.1780 - loss: 2.9124 - val_mae: 0.9005 - val_loss: 2.1114\n",
      "Epoch 54/100\n",
      "757/757 [==============================] - 1s 775us/step - mae: 1.1942 - loss: 3.0259 - val_mae: 0.9013 - val_loss: 2.2373\n",
      "Epoch 55/100\n",
      "757/757 [==============================] - 1s 781us/step - mae: 1.1738 - loss: 2.9251 - val_mae: 0.8304 - val_loss: 1.8524\n",
      "Epoch 56/100\n",
      "757/757 [==============================] - 1s 759us/step - mae: 1.1856 - loss: 3.0090 - val_mae: 0.9891 - val_loss: 2.3568\n",
      "Epoch 57/100\n",
      "757/757 [==============================] - 1s 779us/step - mae: 1.1508 - loss: 2.7760 - val_mae: 0.8413 - val_loss: 1.8393\n",
      "Epoch 58/100\n",
      "757/757 [==============================] - 1s 794us/step - mae: 1.1541 - loss: 2.7933 - val_mae: 0.8692 - val_loss: 1.9501\n",
      "Epoch 59/100\n",
      "757/757 [==============================] - 1s 766us/step - mae: 1.1560 - loss: 2.8041 - val_mae: 0.8229 - val_loss: 1.7959\n",
      "Epoch 60/100\n",
      "757/757 [==============================] - 1s 778us/step - mae: 1.1352 - loss: 2.7050 - val_mae: 0.8474 - val_loss: 1.8360\n",
      "Epoch 61/100\n",
      "757/757 [==============================] - 1s 802us/step - mae: 1.1588 - loss: 2.8747 - val_mae: 0.7812 - val_loss: 1.6238\n",
      "Epoch 62/100\n",
      "757/757 [==============================] - 1s 757us/step - mae: 1.1474 - loss: 2.7875 - val_mae: 0.8650 - val_loss: 2.0242\n",
      "Epoch 63/100\n",
      "757/757 [==============================] - 1s 845us/step - mae: 1.1430 - loss: 2.7515 - val_mae: 0.7844 - val_loss: 1.6751\n",
      "Epoch 64/100\n",
      "757/757 [==============================] - 1s 806us/step - mae: 1.1196 - loss: 2.6302 - val_mae: 0.8149 - val_loss: 1.6862\n",
      "Epoch 65/100\n",
      "757/757 [==============================] - 1s 839us/step - mae: 1.1197 - loss: 2.6304 - val_mae: 0.7849 - val_loss: 1.6262\n",
      "Epoch 66/100\n",
      "757/757 [==============================] - 1s 760us/step - mae: 1.1246 - loss: 2.6492 - val_mae: 0.8195 - val_loss: 1.7970\n",
      "Epoch 67/100\n",
      "757/757 [==============================] - 1s 755us/step - mae: 1.1173 - loss: 2.6442 - val_mae: 0.8013 - val_loss: 1.6306\n",
      "Epoch 68/100\n",
      "757/757 [==============================] - 1s 842us/step - mae: 1.0977 - loss: 2.5418 - val_mae: 0.7890 - val_loss: 1.7117\n",
      "Epoch 69/100\n",
      "757/757 [==============================] - 1s 768us/step - mae: 1.1116 - loss: 2.6432 - val_mae: 0.7803 - val_loss: 1.7465\n",
      "Epoch 70/100\n",
      "757/757 [==============================] - 1s 785us/step - mae: 1.0942 - loss: 2.5512 - val_mae: 0.7698 - val_loss: 1.5467\n",
      "Epoch 71/100\n",
      "757/757 [==============================] - 1s 772us/step - mae: 1.0904 - loss: 2.4981 - val_mae: 0.8015 - val_loss: 1.6599\n",
      "Epoch 72/100\n",
      "757/757 [==============================] - 1s 838us/step - mae: 1.0970 - loss: 2.5804 - val_mae: 0.8609 - val_loss: 2.1734\n",
      "Epoch 73/100\n",
      "757/757 [==============================] - 1s 818us/step - mae: 1.0879 - loss: 2.4699 - val_mae: 0.8311 - val_loss: 1.7921\n",
      "Epoch 74/100\n",
      "757/757 [==============================] - 1s 762us/step - mae: 1.0854 - loss: 2.4614 - val_mae: 0.7763 - val_loss: 1.6249\n",
      "Epoch 75/100\n",
      "757/757 [==============================] - 1s 833us/step - mae: 1.0791 - loss: 2.4259 - val_mae: 0.8017 - val_loss: 1.9143\n",
      "Epoch 76/100\n",
      "757/757 [==============================] - 1s 772us/step - mae: 1.0823 - loss: 2.4314 - val_mae: 0.8177 - val_loss: 1.8552\n",
      "Epoch 77/100\n",
      "757/757 [==============================] - 1s 772us/step - mae: 1.0587 - loss: 2.3763 - val_mae: 0.7896 - val_loss: 1.6667\n",
      "Epoch 78/100\n",
      "757/757 [==============================] - 1s 781us/step - mae: 1.0692 - loss: 2.3949 - val_mae: 0.7849 - val_loss: 1.6617\n",
      "Epoch 79/100\n",
      "757/757 [==============================] - 1s 807us/step - mae: 1.0604 - loss: 2.3914 - val_mae: 0.8306 - val_loss: 1.8776\n",
      "Epoch 80/100\n",
      "757/757 [==============================] - 1s 761us/step - mae: 1.0690 - loss: 2.3856 - val_mae: 0.7822 - val_loss: 1.7328\n",
      "Epoch 81/100\n",
      "757/757 [==============================] - 1s 789us/step - mae: 1.0675 - loss: 2.4082 - val_mae: 0.7264 - val_loss: 1.4647\n",
      "Epoch 82/100\n",
      "757/757 [==============================] - 1s 770us/step - mae: 1.0668 - loss: 2.4196 - val_mae: 0.7355 - val_loss: 1.5870\n",
      "Epoch 83/100\n",
      "757/757 [==============================] - 1s 738us/step - mae: 1.0530 - loss: 2.3459 - val_mae: 0.8073 - val_loss: 1.7306\n",
      "Epoch 84/100\n",
      "757/757 [==============================] - 1s 786us/step - mae: 1.0422 - loss: 2.2556 - val_mae: 0.7823 - val_loss: 1.6840\n",
      "Epoch 85/100\n",
      "757/757 [==============================] - 1s 785us/step - mae: 1.0725 - loss: 2.4261 - val_mae: 0.8366 - val_loss: 1.8230\n",
      "Epoch 86/100\n",
      "757/757 [==============================] - 1s 815us/step - mae: 1.0558 - loss: 2.4094 - val_mae: 0.7408 - val_loss: 1.5890\n",
      "Epoch 87/100\n",
      "757/757 [==============================] - 1s 792us/step - mae: 1.0415 - loss: 2.2954 - val_mae: 0.8260 - val_loss: 1.8086\n",
      "Epoch 88/100\n",
      "757/757 [==============================] - 1s 782us/step - mae: 1.0495 - loss: 2.2846 - val_mae: 0.7984 - val_loss: 1.9134\n",
      "Epoch 89/100\n",
      "757/757 [==============================] - 1s 834us/step - mae: 1.0299 - loss: 2.2425 - val_mae: 0.8120 - val_loss: 1.8090\n",
      "Epoch 90/100\n",
      "757/757 [==============================] - 1s 787us/step - mae: 1.0519 - loss: 2.3541 - val_mae: 0.8650 - val_loss: 2.0327\n",
      "Epoch 91/100\n",
      "757/757 [==============================] - 1s 831us/step - mae: 1.0467 - loss: 2.3310 - val_mae: 0.7907 - val_loss: 1.6154\n",
      "Epoch 92/100\n",
      "757/757 [==============================] - 1s 757us/step - mae: 1.0345 - loss: 2.2713 - val_mae: 0.7866 - val_loss: 1.6163\n",
      "Epoch 93/100\n",
      "757/757 [==============================] - 1s 757us/step - mae: 1.0355 - loss: 2.2555 - val_mae: 0.7634 - val_loss: 1.5575\n",
      "Epoch 94/100\n",
      "757/757 [==============================] - 1s 800us/step - mae: 1.0412 - loss: 2.3241 - val_mae: 0.8462 - val_loss: 1.9750\n",
      "Epoch 95/100\n",
      "757/757 [==============================] - 1s 789us/step - mae: 1.0482 - loss: 2.3212 - val_mae: 0.7447 - val_loss: 1.6155\n",
      "Epoch 96/100\n",
      "757/757 [==============================] - 1s 775us/step - mae: 1.0245 - loss: 2.2145 - val_mae: 0.7653 - val_loss: 1.6294\n",
      "Epoch 97/100\n",
      "757/757 [==============================] - 1s 753us/step - mae: 1.0199 - loss: 2.1939 - val_mae: 0.8191 - val_loss: 1.8170\n",
      "Epoch 98/100\n",
      "757/757 [==============================] - 1s 903us/step - mae: 1.0208 - loss: 2.2159 - val_mae: 0.7504 - val_loss: 1.5255\n",
      "Epoch 99/100\n",
      "757/757 [==============================] - 1s 857us/step - mae: 1.0133 - loss: 2.1599 - val_mae: 0.7307 - val_loss: 1.5115\n",
      "Epoch 100/100\n",
      "757/757 [==============================] - 1s 752us/step - mae: 1.0143 - loss: 2.1823 - val_mae: 0.7920 - val_loss: 1.6646\n"
     ]
    }
   ],
   "source": [
    "optimizer = Adam(lr=lr_schedule(0))\n",
    "model.compile(loss='mse',\n",
    "              optimizer=optimizer,\n",
    "              metrics=['mae'])\n",
    "\n",
    "# train the network\n",
    "H = model.fit(\n",
    "    X_train_norm, y_train,\n",
    "    validation_data=(X_val_norm, y_val), \n",
    "    batch_size=batch_size, \n",
    "    epochs=epochs,\n",
    "    shuffle=True)"
   ]
  },
  {
   "cell_type": "code",
   "execution_count": 13,
   "metadata": {},
   "outputs": [
    {
     "name": "stdout",
     "output_type": "stream",
     "text": [
      "Saving figure mse_loss\n"
     ]
    },
    {
     "data": {
      "image/png": "[encoded data removed]",
      "text/plain": [
       "<Figure size 432x288 with 1 Axes>"
      ]
     },
     "metadata": {},
     "output_type": "display_data"
    }
   ],
   "source": [
    "plt.style.use(\"ggplot\")\n",
    "plt.figure()\n",
    "plt.plot(np.arange(0, epochs), H.history[\"loss\"], label=\"train_loss\")\n",
    "plt.plot(np.arange(0, epochs), H.history[\"val_loss\"], label=\"val_loss\")\n",
    "plt.title(\"MSE\")\n",
    "plt.xlabel(\"Epoch #\")\n",
    "plt.ylabel(\"Loss\")\n",
    "plt.legend(loc=\"lower left\")\n",
    "save_fig(\"mse_loss\")"
   ]
  },
  {
   "cell_type": "code",
   "execution_count": 14,
   "metadata": {},
   "outputs": [
    {
     "name": "stdout",
     "output_type": "stream",
     "text": [
      "Saving figure mae_loss\n"
     ]
    },
    {
     "data": {
      "image/png": "[encoded data removed]",
      "text/plain": [
       "<Figure size 432x288 with 1 Axes>"
      ]
     },
     "metadata": {},
     "output_type": "display_data"
    }
   ],
   "source": [
    "plt.style.use(\"ggplot\")\n",
    "plt.figure()\n",
    "plt.plot(np.arange(0, epochs), H.history[\"mae\"], label=\"train_mae\")\n",
    "plt.plot(np.arange(0, epochs), H.history[\"val_mae\"], label=\"val_mae\")\n",
    "plt.title(\"MAE\")\n",
    "plt.xlabel(\"Epoch #\")\n",
    "plt.ylabel(\"Loss\")\n",
    "plt.legend(loc=\"lower left\")\n",
    "save_fig(\"mae_loss\")"
   ]
  },
  {
   "cell_type": "code",
   "execution_count": 15,
   "metadata": {},
   "outputs": [
    {
     "data": {
      "text/plain": [
       "1.8188763346968078"
      ]
     },
     "execution_count": 15,
     "metadata": {},
     "output_type": "execute_result"
    }
   ],
   "source": [
    "preds = model.predict(X_val_norm, batch_size=batch_size)\n",
    "euclidean_distance(y_val, preds)"
   ]
  },
  {
   "cell_type": "code",
   "execution_count": 16,
   "metadata": {},
   "outputs": [],
   "source": [
    "preds = model.predict(X_test_norm, batch_size=batch_size)\n",
    "\n",
    "name = \"John\"\n",
    "surname = \"Snow\"\n",
    "\n",
    "pd.DataFrame(preds).to_csv(\"{}_{}.csv\".format(name, surname), header=None, index=None)"
   ]
  },
  {
   "cell_type": "code",
   "execution_count": null,
   "metadata": {},
   "outputs": [],
   "source": []
  }
 ],
 "metadata": {
  "kernelspec": {
   "display_name": "Python 3",
   "language": "python",
   "name": "python3"
  },
  "language_info": {
   "codemirror_mode": {
    "name": "ipython",
    "version": 3
   },
   "file_extension": ".py",
   "mimetype": "text/x-python",
   "name": "python",
   "nbconvert_exporter": "python",
   "pygments_lexer": "ipython3",
   "version": "3.8.5"
  }
 },
 "nbformat": 4,
 "nbformat_minor": 4
}
